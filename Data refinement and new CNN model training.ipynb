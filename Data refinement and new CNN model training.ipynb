{
 "cells": [
  {
   "cell_type": "code",
   "execution_count": 1,
   "metadata": {},
   "outputs": [
    {
     "name": "stderr",
     "output_type": "stream",
     "text": [
      "Using TensorFlow backend.\n"
     ]
    }
   ],
   "source": [
    "from __future__ import absolute_import, division, print_function, unicode_literals\n",
    "import pandas as pd\n",
    "import tensorflow as tf\n",
    "import matplotlib.pyplot as plt\n",
    "from tensorflow import keras\n",
    "import numpy as np\n",
    "import random\n",
    "import itertools\n",
    "from sklearn.metrics import mean_squared_error\n",
    "import theano\n",
    "from keras import optimizers\n",
    "from tensorflow.keras import datasets, layers, models\n",
    "from scipy.stats import pearsonr\n",
    "from sklearn.model_selection import KFold\n",
    "from scipy.stats import pearsonr\n",
    "from tqdm import tqdm\n",
    "data = pd.read_excel('PCC6803 Promoter and reads 100bp.xlsx')\n",
    "#model=tf.keras.models.load_model('100bp promoter with Random Search [100 iteration]).h5')"
   ]
  },
  {
   "cell_type": "code",
   "execution_count": 22,
   "metadata": {},
   "outputs": [],
   "source": [
    "sorted_data= []\n",
    "\n",
    "for i in range(3712):\n",
    "    if data['Promoter'][i][-7] == 'T' and data['Promoter'][i][-9] == 'A' and data['Promoter'][i][-12:-10] == 'TA':\n",
    "        sorted_data.append([data['Promoter'][i],data['Reads'][i]])\n",
    "for j in range(3712):\n",
    "    if data['Promoter'][j][-5] == 'T' and data['Promoter'][i][-7] == 'A' and data['Promoter'][j][-10:-8] == 'TA':\n",
    "        sorted_data.append([data['Promoter'][j],data['Reads'][j]])\n",
    "for k in range(3712):        \n",
    "    if data['Promoter'][k][-6] == 'T' and data['Promoter'][i][-8] == 'A' and data['Promoter'][k][-11:-9] == 'TA':\n",
    "        sorted_data.append([data['Promoter'][k],data['Reads'][k]])"
   ]
  },
  {
   "cell_type": "code",
   "execution_count": 24,
   "metadata": {},
   "outputs": [],
   "source": [
    "def one_hot_encoding(seqs):\n",
    "    bases = ['A','C','G','T']\n",
    "    base_dict = dict(zip(bases,range(4)))\n",
    "    n = len(seqs)\n",
    "    total_width = 120\n",
    "    X = np.zeros((n,1,4,total_width))\n",
    "    for i in range(n):\n",
    "        seq = seqs[i][0]\n",
    "        for b in range(len(seq)):\n",
    "            X[i,0,base_dict[seq[b]], b+10+100-len(seq)] = 1\n",
    "    lio = []\n",
    "    for i in range(n):\n",
    "        lio.append(seqs[i][1])\n",
    "    X = X.astype(theano.config.floatX)\n",
    "    y = np.asarray(lio, dtype = theano.config.floatX)[:,np.newaxis]\n",
    "    return X, y, total_width\n",
    "\n",
    "def one_hot_encoding_nat(df, seq_column, expression):\n",
    "    bases = ['A','C','G','T']\n",
    "    base_dict = dict(zip(bases,range(4)))\n",
    "    n = len(df)\n",
    "    total_width = df[seq_column].str.len().max()+20\n",
    "    X = np.zeros((n,1,4,total_width))\n",
    "    seqs = df[seq_column].values\n",
    "    for i in range(n):\n",
    "        seq = seqs[i]\n",
    "        for b in range(len(seq)):\n",
    "            X[i,0,base_dict[seq[b]], b+10+100-len(seq)] = 1    \n",
    "    X = X.astype(theano.config.floatX)\n",
    "    y = np.asarray(df[expression].values, dtype = theano.config.floatX)[:,np.newaxis]\n",
    "    return X, y, total_width\n",
    "\n",
    "X, y, _ = one_hot_encoding(sorted_data)\n",
    "Xtot, ytot, _ = one_hot_encoding_nat(data,'Promoter','Reads')\n",
    "#y= np.log2(y+1)"
   ]
  },
  {
   "cell_type": "code",
   "execution_count": 25,
   "metadata": {},
   "outputs": [],
   "source": [
    "y= np.log2(y+1)\n",
    "ytot= np.log2(ytot+1)"
   ]
  },
  {
   "cell_type": "code",
   "execution_count": 26,
   "metadata": {},
   "outputs": [],
   "source": [
    "hyperdict = {'con1_num' : [4,8,16,32],'con1_len' : [6,12,18,24], 'con2_prob' : [0],\n",
    "             'con2_num' : [4,8,16,32],'con2_len' : [6,12,18,24],'den_prob' : [0,1],\n",
    "             'den1_len' : [4,8,16,32], 'droprate' : [0.1,0.2,0.3,0.5] , 'batch_size' :[32,64], 'epochs' : [100]}"
   ]
  },
  {
   "cell_type": "code",
   "execution_count": 27,
   "metadata": {},
   "outputs": [],
   "source": [
    "# Random search를 위한 함수 create_model 제작\n",
    "\n",
    "def create_model(con1n = None, con1l= None,con2p = None, con2n= None, con2l= None,denp = None,den1= None, dout = None):\n",
    "    model= models.Sequential()\n",
    "    model.add(layers.Conv2D(con1n,(4, con1l), activation = 'relu', data_format = 'channels_first', input_shape = (1,4,120)))\n",
    "    model.add(layers.Dropout(dout))\n",
    "    #model.add(layers.MaxPooling2D((1,plen), data_format = 'channels_first'))\n",
    "    if con2p == 1:     \n",
    "        model.add(layers.Conv2D(con2n,(1,con2l),activation = 'relu' ,data_format = 'channels_first'))\n",
    "        model.add(layers.Dropout(dout))\n",
    "    model.add(layers.Flatten())\n",
    "    model.add(layers.Dropout(dout))\n",
    "    if denp == 1:\n",
    "        model.add(layers.Dense(den1, activation = 'relu'))\n",
    "    model.add(layers.Dense(1))\n",
    "    return model"
   ]
  },
  {
   "cell_type": "code",
   "execution_count": 28,
   "metadata": {
    "scrolled": true
   },
   "outputs": [
    {
     "name": "stdout",
     "output_type": "stream",
     "text": [
      "0 []\n",
      "time : 25.202193021774292\n",
      "0.1857274674323674\n"
     ]
    }
   ],
   "source": [
    "import time\n",
    "import kFold\n",
    "start = time.time() \n",
    "instant_val = 0\n",
    "total_val = 10000\n",
    "trial = 100\n",
    "kfold = kFold(n_split = 5)\n",
    "oplist = []\n",
    "for X, y in kfold.split(X):\n",
    "    c1n = random.choice(hyperdict['con1_num'])\n",
    "    c1l = random.choice(hyperdict['con1_len'])\n",
    "    c2p = random.choice(hyperdict['con2_prob'])\n",
    "    c2n = random.choice(hyperdict['con2_num'])\n",
    "    c2l = random.choice(hyperdict['con2_len'])\n",
    "    denp =random.choice(hyperdict['den_prob'])\n",
    "    den1 = random.choice(hyperdict['den1_len'])\n",
    "    dout = random.choice(hyperdict['droprate'])\n",
    "    ep = random.choice(hyperdict['epochs'])\n",
    "    b_size = random.choice(hyperdict['batch_size'])\n",
    "    model = create_model(c1n,c1l,c2p,c2n,c2l,denp,den1,dout)\n",
    "    model.compile(optimizer = 'Adam', loss = 'mean_squared_error', metrics = ['mean_squared_error'])\n",
    "    history = model.fit(X, y, epochs = ep, verbose = 0, batch_size = b_size, validation_split = 0.2)    \n",
    "    instant_val = history.loss[-1]\n",
    "    if total_val >instant_val:\n",
    "        model.save('Model with refined data.h5')\n",
    "print(\"time :\", time.time() - start)"
   ]
  }
 ],
 "metadata": {
  "kernelspec": {
   "display_name": "Python 3",
   "language": "python",
   "name": "python3"
  },
  "language_info": {
   "codemirror_mode": {
    "name": "ipython",
    "version": 3
   },
   "file_extension": ".py",
   "mimetype": "text/x-python",
   "name": "python",
   "nbconvert_exporter": "python",
   "pygments_lexer": "ipython3",
   "version": "3.7.6"
  }
 },
 "nbformat": 4,
 "nbformat_minor": 4
}
