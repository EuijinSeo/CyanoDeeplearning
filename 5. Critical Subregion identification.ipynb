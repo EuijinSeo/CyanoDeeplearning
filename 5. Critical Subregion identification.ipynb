{
 "cells": [
  {
   "cell_type": "markdown",
   "metadata": {},
   "source": [
    "<span style=\"color:black\"><span style = \"font-size:30px\"> Critical subregion identification</span>\n",
    "&nbsp;&nbsp;&nbsp;\n",
    "   \n",
    "    \n",
    "In this process, we identified the critical subregion for promoter strength by varying promoter sequences and assessing its impacts. The CNN model (CNN training.ipynb) from the previous step is necessary to run this program. "
   ]
  },
  {
   "cell_type": "markdown",
   "metadata": {},
   "source": [
    "1. Import python modules and the constructed CNN model and load the native promoter dataset."
   ]
  },
  {
   "cell_type": "code",
   "execution_count": null,
   "metadata": {},
   "outputs": [],
   "source": [
    "# 1.\n",
    "\n",
    "from __future__ import absolute_import, division, print_function, unicode_literals\n",
    "import pandas as pd\n",
    "import matplotlib.pyplot as plt\n",
    "import numpy as np\n",
    "import random\n",
    "from scipy.stats import pearsonr\n",
    "from tqdm import tqdm\n",
    "data = pd.read_excel('PCC6803 Promoter and reads 100bp.xlsx')\n",
    "model=tf.keras.models.load_model('CNN model.h5')"
   ]
  },
  {
   "cell_type": "markdown",
   "metadata": {},
   "source": [
    "2.\tDefine the 'changeseq', 'one_hot_encoding', and 'one_hot_encoding_mut' functions. The 'changeseq' randomly replaces nucleotides of the promoters with other nucleotides from the 'nucleotide' list. The 'one_hot_encoding' function returns the one-hot encoded data of promoter sequence and their logarithmically-scaled gene expression level. The 'one_hot_encoding_mut' mutates two regions of the promoter and returns the one-hot encoded data of the mutated promoter sequence by 'changeseq' function and their logarithmically-scaled promoter strengths."
   ]
  },
  {
   "cell_type": "code",
   "execution_count": null,
   "metadata": {},
   "outputs": [],
   "source": [
    "# 2. \n",
    "\n",
    "def changeseq(seq,start,ran):\n",
    "    nucleotide = ['A','C','G','T']\n",
    "    newseq = ''\n",
    "    for i in range(ran):\n",
    "        nucleotide = ['A','C','G','T']\n",
    "        nucleotide.remove(seq[i+start])\n",
    "        newseq += random.choice(nucleotide)\n",
    "    return seq[:start]+newseq+seq[start+ran:]\n",
    "\n",
    "def one_hot_encoding(df, seq_column, expression):\n",
    "    bases = ['A','C','G','T']\n",
    "    base_dict = dict(zip(bases,range(4)))\n",
    "    n = len(df)\n",
    "    total_width = df[seq_column].str.len().max()+20\n",
    "    X = np.zeros((n,1,4,total_width))\n",
    "    seqs = df[seq_column].values\n",
    "    for i in range(n):\n",
    "        seq = seqs[i]\n",
    "        for b in range(len(seq)):\n",
    "            X[i,0,base_dict[seq[b]], b+10+100-len(seq)] = 1    \n",
    "    X = X.astype(theano.config.floatX)\n",
    "    y = np.asarray(df[expression].values, dtype = theano.config.floatX)[:,np.newaxis]\n",
    "    return X, y, total_width\n",
    "\n",
    "def one_hot_encoding_mut(df, seq_column, expression, start1,start2,ran):\n",
    "    bases = ['A','C','G','T']\n",
    "    base_dict = dict(zip(bases,range(4)))\n",
    "    n = len(df)\n",
    "    total_width = df[seq_column].str.len().max()+20\n",
    "    X = np.zeros((n,1,4,total_width))\n",
    "    seqs = df[seq_column].values\n",
    "    for i in range(n):\n",
    "        seq = changeseq(seqs[i],start1,ran)\n",
    "        seq = changeseq(seq,start2,ran)\n",
    "        for b in range(len(seq)):\n",
    "            X[i,0,base_dict[seq[b]], b+10+100-len(seq)] = 1    \n",
    "    X = X.astype(theano.config.floatX)\n",
    "    y = np.asarray(df[expression].values, dtype = theano.config.floatX)[:,np.newaxis]\n",
    "    return X, y, total_width"
   ]
  },
  {
   "cell_type": "markdown",
   "metadata": {},
   "source": [
    "3.\tCritical subregion identification process. Based on the number of subregions (‘div’), the ‘subregion_size’ is calculated (div = [100/subregion size]). In the for-loop, two subregions are randomly selected and replaced with other sequences. This process is conducted for all the 3,712 native promoters. When the mutation dataset through 'one_hot_encoding_mut' function is generated, the Pearson correlation coefficient between the predicted strength of the native promoter and the mutated promoter dataset is calculated. This process is conducted for all possible subregion combinations (33C2 = 963 cases)."
   ]
  },
  {
   "cell_type": "code",
   "execution_count": null,
   "metadata": {
    "scrolled": false
   },
   "outputs": [],
   "source": [
    "# 3.\n",
    "\n",
    "div = 33\n",
    "subregion_size = int(100/div)\n",
    "subregion_matrix = np.zeros((div-1,div-1))\n",
    "for j in tqdm(range(div-1)):\n",
    "    for k in range(div-1):\n",
    "        arl = 0\n",
    "        for i in range(10):\n",
    "            X, y, total_width = one_hot_encoding(data,'Promoter','Reads')\n",
    "            Xm, ym, total_widthm = one_hot_encoding_mut(data,'Promoter','Reads',subregion_size*j+2,subregion_size*k+2,rran)\n",
    "            arl += pearsonr(model.predict(X)[:,0], model.predict(Xm)[:,0])[0]\n",
    "        subregion_matrix[j][k] = arl/10\n",
    "for i in range(div-1):\n",
    "    subregion_matrix[i][i] = 1"
   ]
  },
  {
   "cell_type": "markdown",
   "metadata": {},
   "source": [
    "4.\tDraw the heatmap of the critical subregion identification analysis result. Because the result is symmetrical to the diagonal direction, the heatmap shows only the lower triangle part. "
   ]
  },
  {
   "cell_type": "code",
   "execution_count": null,
   "metadata": {
    "scrolled": false
   },
   "outputs": [],
   "source": [
    "# 4.\n",
    "\n",
    "plt.figure(figsize = (40,30))\n",
    "plt.pcolor(resu,cmap = 'PiYG')\n",
    "plt.title('3bp sequence mutation (3N)\\n',fontsize = 120)\n",
    "plt.xticks(np.arange(0.5,len(xy.index)),xy.index, rotation = 45,fontsize = 40)\n",
    "plt.yticks(np.arange(0.5,len(xy.columns)),xy.columns,fontsize = 40)\n",
    "plt.xlabel('\\nMutated promoter sequence position',fontsize = 60)\n",
    "plt.ylabel('Mutated promoter sequence position\\n',fontsize = 60)\n",
    "cbar = plt.colorbar()\n",
    "cbar.set_label('\\nPearson correlation coefficient',fontsize = 60)\n",
    "tick_font_size = 40\n",
    "cbar.ax.tick_params(labelsize=tick_font_size)"
   ]
  }
 ],
 "metadata": {
  "kernelspec": {
   "display_name": "Python 3",
   "language": "python",
   "name": "python3"
  },
  "language_info": {
   "codemirror_mode": {
    "name": "ipython",
    "version": 3
   },
   "file_extension": ".py",
   "mimetype": "text/x-python",
   "name": "python",
   "nbconvert_exporter": "python",
   "pygments_lexer": "ipython3",
   "version": "3.7.6"
  }
 },
 "nbformat": 4,
 "nbformat_minor": 4
}
