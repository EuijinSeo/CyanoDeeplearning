{
 "cells": [
  {
   "cell_type": "code",
   "execution_count": null,
   "metadata": {},
   "outputs": [],
   "source": [
    "\n",
    "import numpy as np\n",
    "import pandas as pd\n",
    "\n",
    "pccgene = []\n",
    "pccseq = ''\n",
    "data = open('/Users/ufooo/OneDrive/문서/Python Scripts/PCC6803 gene info.txt','r')\n",
    "line = data.readlines()\n",
    "gspoint = line.index('ORIGIN\\n')\n",
    "for i in range(len(line)-gspoint-1):\n",
    "    templist = line[i+gspoint].strip().split()[1:]\n",
    "    for partseq in templist:\n",
    "        pccseq = pccseq+partseq\n",
    "data.close()\n",
    "\n",
    "pccseq = pccseq.upper()\n",
    "\n",
    "# 2. Kopf 교수님의 엑셀데이터에 접근하여 excel data를 training 할 수 있는 dataset으로 바꾸기\n",
    "\n",
    "trlist = []\n",
    "comp_dic = {'A':'T','G':'C','C':'G','T':'A'}\n",
    "prolen = 50\n",
    "df = pd.read_excel('/Users/ufooo/OneDrive/문서/Python Scripts/PCC6803 promoter reads info.xlsx',header = 1,sheet_name = 'S1 - All TUs')\n",
    "numpydf = df.to_numpy()\n",
    "for i in numpydf:\n",
    "    if i[0] == 'Chr':\n",
    "        if i[4] == '+':\n",
    "            trlist.append((pccseq[i[2]-(prolen+1):i[2]-1],i[19]))\n",
    "        else:\n",
    "            compseq = ''\n",
    "            seq = pccseq[i[2]:i[2]+prolen]\n",
    "            for s in seq:\n",
    "                compseq +=comp_dic[s]\n",
    "            revcomp_seq = compseq[::-1]\n",
    "            trlist.append((revcomp_seq, i[19]))\n",
    "    else:\n",
    "        break\n",
    "\n",
    "# training data를 excel 파일에 저장하기\n",
    "\n",
    "from openpyxl import Workbook\n",
    "\n",
    "write_wb = Workbook()\n",
    "\n",
    "write_ws = write_wb.active\n",
    "\n",
    "write_ws['A1'] = 'Promoter'\n",
    "write_ws['B1'] = 'Reads'\n",
    "\n",
    "for i in range(len(trlist)):\n",
    "    write_ws.cell(i+2,1,trlist[i][0])\n",
    "    write_ws.cell(i+2,2,trlist[i][1])\n",
    "\n",
    "write_wb.save('/Users/ufooo/OneDrive/문서/Python Scripts/PCC6803 Promoter and reads 50bp_20201215.xlsx')"
   ]
  }
 ],
 "metadata": {
  "kernelspec": {
   "display_name": "Python 3",
   "language": "python",
   "name": "python3"
  },
  "language_info": {
   "codemirror_mode": {
    "name": "ipython",
    "version": 3
   },
   "file_extension": ".py",
   "mimetype": "text/x-python",
   "name": "python",
   "nbconvert_exporter": "python",
   "pygments_lexer": "ipython3",
   "version": "3.7.6"
  }
 },
 "nbformat": 4,
 "nbformat_minor": 4
}
