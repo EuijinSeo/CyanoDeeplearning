{
 "cells": [
  {
   "cell_type": "markdown",
   "metadata": {},
   "source": [
    "<span style=\"color:black\"><span style = \"font-size:30px\"> Acquisition of promoter dataset</span>\n",
    "&nbsp;&nbsp;&nbsp;\n",
    "   \n",
    "    \n",
    "From a previous differential RNA-sequencing (dRNA-seq) dataset, we obtained native promoter sequences of Synechocystis sp. PCC 6803. We assumed the 100-base sequences from a transcription start site (TSS) as a promoter and took normalized reads of the corresponding transcript in the dRNA-seq dataset as the promoter strength. Below is the code description for acquiring the promoter dataset.  "
   ]
  },
  {
   "cell_type": "markdown",
   "metadata": {},
   "source": [
    "1.\tTo acquire the promoter dataset from the dRNA-seq dataset, install ‘numpy’ and ‘pandas’ modules, which are modules for handling data arrays and analyzing datasets. "
   ]
  },
  {
   "cell_type": "code",
   "execution_count": null,
   "metadata": {},
   "outputs": [],
   "source": [
    "# 1.\n",
    "\n",
    "import numpy as np\n",
    "import pandas as pd"
   ]
  },
  {
   "cell_type": "markdown",
   "metadata": {},
   "source": [
    "2.\tObtain the whole genome sequence of Synechocystis sp. PCC 6803 in a long string format."
   ]
  },
  {
   "cell_type": "code",
   "execution_count": null,
   "metadata": {},
   "outputs": [],
   "source": [
    "# 2.\n",
    "\n",
    "pccgene = []\n",
    "pccseq = ''\n",
    "data = open('Whole_genome_of_synechocystis.txt','r')\n",
    "line = data.readlines()\n",
    "gspoint = line.index('ORIGIN\\n')\n",
    "for i in range(len(line)-gspoint-1):\n",
    "    templist = line[i+gspoint].strip().split()[1:]\n",
    "    for partseq in templist:\n",
    "        pccseq = pccseq+partseq\n",
    "data.close()\n",
    "pccseq = pccseq.upper()"
   ]
  },
  {
   "cell_type": "markdown",
   "metadata": {},
   "source": [
    "3.\tExtract the promoter dataset composed of promoter sequences and their strength from the whole genome sequence and the dRNA-seq dataset"
   ]
  },
  {
   "cell_type": "code",
   "execution_count": null,
   "metadata": {},
   "outputs": [],
   "source": [
    "# 3.\n",
    "\n",
    "trlist = []\n",
    "comp_dic = {'A':'T','G':'C','C':'G','T':'A'}\n",
    "prolen = 100\n",
    "df = pd.read_excel('Differential_RNA_sequencing_data.xlsx',header = 1,sheet_name = 'S1 - All TUs')\n",
    "numpydf = df.to_numpy()\n",
    "for i in numpydf:\n",
    "    if i[0] == 'Chr':\n",
    "        if i[4] == '+':\n",
    "            trlist.append((pccseq[i[2]-(prolen+1):i[2]-1],i[19]))\n",
    "        else:\n",
    "            compseq = ''\n",
    "            seq = pccseq[i[2]:i[2]+prolen]\n",
    "            for s in seq:\n",
    "                compseq +=comp_dic[s]\n",
    "            revcomp_seq = compseq[::-1]\n",
    "            trlist.append((revcomp_seq, i[19]))\n",
    "    else:\n",
    "        break"
   ]
  },
  {
   "cell_type": "markdown",
   "metadata": {},
   "source": [
    "4.\t Export the promoter dataset containing promoter sequences and their strength. This dataset is a training dataset for the VAE and CNN models. "
   ]
  },
  {
   "cell_type": "code",
   "execution_count": null,
   "metadata": {},
   "outputs": [],
   "source": [
    "# 4. \n",
    "\n",
    "from openpyxl import Workbook\n",
    "write_wb = Workbook()\n",
    "write_ws = write_wb.active\n",
    "\n",
    "write_ws['A1'] = 'Promoter'\n",
    "write_ws['B1'] = 'Reads'\n",
    "\n",
    "for i in range(len(trlist)):\n",
    "    write_ws.cell(i+2,1,trlist[i][0])\n",
    "    write_ws.cell(i+2,2,trlist[i][1])\n",
    "\n",
    "write_wb.save('Training dataset.xlsx')"
   ]
  }
 ],
 "metadata": {
  "kernelspec": {
   "display_name": "Python 3",
   "language": "python",
   "name": "python3"
  },
  "language_info": {
   "codemirror_mode": {
    "name": "ipython",
    "version": 3
   },
   "file_extension": ".py",
   "mimetype": "text/x-python",
   "name": "python",
   "nbconvert_exporter": "python",
   "pygments_lexer": "ipython3",
   "version": "3.7.6"
  }
 },
 "nbformat": 4,
 "nbformat_minor": 4
}
