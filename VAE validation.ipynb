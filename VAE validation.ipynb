{
 "cells": [
  {
   "cell_type": "code",
   "execution_count": null,
   "metadata": {},
   "outputs": [],
   "source": [
    "# VAE validation\n",
    "\n",
    "from __future__ import absolute_import, division, print_function, unicode_literals\n",
    "import pandas as pd\n",
    "import tensorflow as tf\n",
    "import matplotlib.pyplot as plt\n",
    "from tensorflow import keras\n",
    "import numpy as np\n",
    "import random\n",
    "from keras.layers.convolutional import MaxPooling2D\n",
    "from sklearn.metrics import mean_squared_error\n",
    "import theano\n",
    "from keras import optimizers\n",
    "from tensorflow.keras import datasets, layers, models\n",
    "from scipy.stats import pearsonr\n",
    "from sklearn.model_selection import KFold\n",
    "from tqdm import tqdm\n",
    "gendata = pd.read_excel('Generated promoters & Candidates (#10000) (1).xlsx')\n",
    "natdata = pd.read_excel('PCC6803 Promoter and reads 100bp.xlsx')"
   ]
  },
  {
   "cell_type": "code",
   "execution_count": null,
   "metadata": {},
   "outputs": [],
   "source": [
    "# 1. Load the natural and generated promoter sequences\n",
    "\n",
    "def checkseq(seq,target,bindo):\n",
    "    checklist = []\n",
    "    for j in range(100-6+1):\n",
    "        check = 0\n",
    "        for i in seq:\n",
    "            if i[j:j+6] == target:\n",
    "                check+=1\n",
    "        checklist.append(check/bindo)\n",
    "    return checklist\n",
    "\n",
    "gen_promoter = gendata['promoter'].tolist()\n",
    "nat_promoter = natdata['Promoter'].tolist()\n",
    "nat_reads = natdata['Reads'].tolist()"
   ]
  },
  {
   "cell_type": "code",
   "execution_count": null,
   "metadata": {},
   "outputs": [],
   "source": [
    "# 2. Caculate the frequency about 4 6-mers (TATAAT, TAAAAT, TAGAAT, AAAATA) \n",
    "\n",
    "nat_tataat = checkseq(nat_promoter,'TATAAT',3712)\n",
    "nat_taaaat = checkseq(nat_promoter,'TAAAAT',3712)\n",
    "nat_tagaat = checkseq(nat_promoter,'TAGAAT',3712)\n",
    "nat_aaaata = checkseq(nat_promoter,'AAAATA',3712)\n",
    "nat_aaaatt = checkseq(nat_promoter,'AAAATT',3712)\n",
    "nat_ttaaaa = checkseq(nat_promoter,'TTAAAA',3712)\n",
    "gen_tataat = checkseq(gen_promoter,'TATAAT',3712)\n",
    "gen_taaaat = checkseq(gen_promoter,'TAAAAT',3712)\n",
    "gen_tagaat = checkseq(gen_promoter,'TAGAAT',3712)\n",
    "gen_aaaata = checkseq(gen_promoter,'AAAATA',3712)\n",
    "gen_aaaatt = checkseq(gen_promoter,'AAAATT',3712)\n",
    "gen_ttaaaa = checkseq(gen_promoter,'TTAAAA',3712)"
   ]
  },
  {
   "cell_type": "code",
   "execution_count": null,
   "metadata": {
    "scrolled": true
   },
   "outputs": [],
   "source": [
    "# 3. Show results\n",
    "\n",
    "fig = plt.figure(figsize=(8,8)) \n",
    "fig.set_facecolor('white')\n",
    "ax1 = fig.add_subplot()\n",
    "color1 = 'green'\n",
    "ax1.plot(range(-100,-5), nat_aaaata, color=color1, label = 'Natural',linewidth = 4)\n",
    "ax1.set_yticks(np.arange(0.00,0.04,0.008))\n",
    "ax1.tick_params(axis='y')\n",
    "\n",
    " \n",
    "color2 = 'orange'\n",
    "ax2 = ax1.twinx()\n",
    "ax2.plot(range(-100,-5), gen_aaaata, color=color2,  label = 'Generated',linewidth = 4)\n",
    "ax2.tick_params(axis='y')\n",
    "ax2.set_yticks(np.arange(0.00,0.4,0.08))\n",
    "\n",
    "plt.show()"
   ]
  }
 ],
 "metadata": {
  "kernelspec": {
   "display_name": "Python 3",
   "language": "python",
   "name": "python3"
  },
  "language_info": {
   "codemirror_mode": {
    "name": "ipython",
    "version": 3
   },
   "file_extension": ".py",
   "mimetype": "text/x-python",
   "name": "python",
   "nbconvert_exporter": "python",
   "pygments_lexer": "ipython3",
   "version": "3.7.3"
  }
 },
 "nbformat": 4,
 "nbformat_minor": 4
}
